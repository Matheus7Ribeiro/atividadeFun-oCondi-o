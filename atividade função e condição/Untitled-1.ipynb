{
 "cells": [
  {
   "cell_type": "code",
   "execution_count": 49,
   "metadata": {},
   "outputs": [
    {
     "name": "stdout",
     "output_type": "stream",
     "text": [
      "Dolar= 5.1676 Euro= 5.5578 Bitcon= 91.489\n",
      "Média= 34.07146666666667\n"
     ]
    }
   ],
   "source": [
    "cotacoes = requests.get(\"https://economia.awesomeapi.com.br/last/USD-BRL,EUR-BRL,BTC-BRL\")\n",
    "cotacoes = cotacoes.json()\n",
    "dolar = float(cotacoes['USDBRL'][\"bid\"])\n",
    "euro = float(cotacoes['EURBRL'][\"bid\"])\n",
    "bitcoin = float(cotacoes['BTCBRL'][\"bid\"])\n",
    "print ('Dolar=', dolar, 'Euro=', euro, 'Bitcon=', bitcoin)\n",
    "print ( 'Média=', (dolar + euro + bitcoin) /len(moedas))"
   ]
  },
  {
   "cell_type": "code",
   "execution_count": 48,
   "metadata": {},
   "outputs": [
    {
     "name": "stdout",
     "output_type": "stream",
     "text": [
      "[5.168, 5.5587, 91.489]\n",
      "Média= 34.0719\n"
     ]
    }
   ],
   "source": [
    "cotacoes = requests.get(\"https://economia.awesomeapi.com.br/last/USD-BRL,EUR-BRL,BTC-BRL\")\n",
    "cotacoes = cotacoes.json()\n",
    "moedas = [float(cotacoes['USDBRL'][\"bid\"]), float(cotacoes['EURBRL'][\"bid\"]), float(cotacoes['BTCBRL'][\"bid\"])]\n",
    "\n",
    "print (moedas)\n",
    "print ('Média=', sum(moedas) /len(moedas))"
   ]
  }
 ],
 "metadata": {
  "kernelspec": {
   "display_name": "Python 3",
   "language": "python",
   "name": "python3"
  },
  "language_info": {
   "codemirror_mode": {
    "name": "ipython",
    "version": 3
   },
   "file_extension": ".py",
   "mimetype": "text/x-python",
   "name": "python",
   "nbconvert_exporter": "python",
   "pygments_lexer": "ipython3",
   "version": "3.10.6 (main, Nov 14 2022, 16:10:14) [GCC 11.3.0]"
  },
  "orig_nbformat": 4,
  "vscode": {
   "interpreter": {
    "hash": "916dbcbb3f70747c44a77c7bcd40155683ae19c65e1c03b4aa3499c5328201f1"
   }
  }
 },
 "nbformat": 4,
 "nbformat_minor": 2
}
